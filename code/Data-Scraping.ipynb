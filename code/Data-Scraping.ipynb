{
 "cells": [
  {
   "cell_type": "code",
   "execution_count": 1,
   "id": "c5908df8-0c5a-491e-b981-e0fefea87929",
   "metadata": {},
   "outputs": [],
   "source": [
    "import praw\n",
    "from mykeys import client_id, client_secret, user_agent, username, password"
   ]
  },
  {
   "cell_type": "code",
   "execution_count": 3,
   "id": "4aee1c91-84d9-4df2-87f1-05a0d3cf18aa",
   "metadata": {},
   "outputs": [],
   "source": [
    "# Initialize connection to Reddit API using PRAW\n",
    "reddit = praw.Reddit(\n",
    "    client_id= client_id,\n",
    "    client_secret= client_secret,\n",
    "    user_agent= user_agent,\n",
    "    username= username,\n",
    "    password= password\n",
    ")"
   ]
  },
  {
   "cell_type": "code",
   "execution_count": 36,
   "id": "413d93f0-d402-40a4-a7d9-997305a9e306",
   "metadata": {},
   "outputs": [],
   "source": [
    "# Retrieve the newest posts from the Bitcoin subreddit\n",
    "subreddit = reddit.subreddit('Bitcoin')\n",
    "\n",
    "posts = subreddit.new(limit=1000)"
   ]
  },
  {
   "cell_type": "code",
   "execution_count": 37,
   "id": "5756d5b0-b9ed-4402-9c4e-e5f32886b2c4",
   "metadata": {},
   "outputs": [
    {
     "data": {
      "text/html": [
       "<div>\n",
       "<style scoped>\n",
       "    .dataframe tbody tr th:only-of-type {\n",
       "        vertical-align: middle;\n",
       "    }\n",
       "\n",
       "    .dataframe tbody tr th {\n",
       "        vertical-align: top;\n",
       "    }\n",
       "\n",
       "    .dataframe thead th {\n",
       "        text-align: right;\n",
       "    }\n",
       "</style>\n",
       "<table border=\"1\" class=\"dataframe\">\n",
       "  <thead>\n",
       "    <tr style=\"text-align: right;\">\n",
       "      <th></th>\n",
       "      <th>created_utc</th>\n",
       "      <th>title</th>\n",
       "      <th>self_text</th>\n",
       "      <th>subreddit</th>\n",
       "    </tr>\n",
       "  </thead>\n",
       "  <tbody>\n",
       "    <tr>\n",
       "      <th>0</th>\n",
       "      <td>1.712352e+09</td>\n",
       "      <td>USD vs Chinas CBDC</td>\n",
       "      <td></td>\n",
       "      <td>Bitcoin</td>\n",
       "    </tr>\n",
       "    <tr>\n",
       "      <th>1</th>\n",
       "      <td>1.712352e+09</td>\n",
       "      <td>I don’t understand.</td>\n",
       "      <td>This post is regarding to a post I read .\\n\\nI...</td>\n",
       "      <td>Bitcoin</td>\n",
       "    </tr>\n",
       "    <tr>\n",
       "      <th>2</th>\n",
       "      <td>1.712351e+09</td>\n",
       "      <td>Should I Sell Every Stock I Own in my Roth IRA...</td>\n",
       "      <td>Hi, I'm a 21-year-old male who plans on invest...</td>\n",
       "      <td>Bitcoin</td>\n",
       "    </tr>\n",
       "    <tr>\n",
       "      <th>3</th>\n",
       "      <td>1.712351e+09</td>\n",
       "      <td>Bitcoin Tax Help?</td>\n",
       "      <td>I am new to bitcoin and have only used it to b...</td>\n",
       "      <td>Bitcoin</td>\n",
       "    </tr>\n",
       "    <tr>\n",
       "      <th>4</th>\n",
       "      <td>1.712348e+09</td>\n",
       "      <td>Best way to auto buy?</td>\n",
       "      <td>I use Strike for my Bitcoin atm. I find I get ...</td>\n",
       "      <td>Bitcoin</td>\n",
       "    </tr>\n",
       "  </tbody>\n",
       "</table>\n",
       "</div>"
      ],
      "text/plain": [
       "    created_utc                                              title  \\\n",
       "0  1.712352e+09                                 USD vs Chinas CBDC   \n",
       "1  1.712352e+09                                I don’t understand.   \n",
       "2  1.712351e+09  Should I Sell Every Stock I Own in my Roth IRA...   \n",
       "3  1.712351e+09                                  Bitcoin Tax Help?   \n",
       "4  1.712348e+09                              Best way to auto buy?   \n",
       "\n",
       "                                           self_text subreddit  \n",
       "0                                                      Bitcoin  \n",
       "1  This post is regarding to a post I read .\\n\\nI...   Bitcoin  \n",
       "2  Hi, I'm a 21-year-old male who plans on invest...   Bitcoin  \n",
       "3  I am new to bitcoin and have only used it to b...   Bitcoin  \n",
       "4  I use Strike for my Bitcoin atm. I find I get ...   Bitcoin  "
      ]
     },
     "execution_count": 37,
     "metadata": {},
     "output_type": "execute_result"
    }
   ],
   "source": [
    "# collect information from each Bicoin post and append it to a list\n",
    "data = []\n",
    "for post in posts:\n",
    "    data.append([post.created_utc, post.title, post.selftext, post.subreddit])\n",
    "\n",
    "# Turn into a dataframe\n",
    "bitcoin = pd.DataFrame(data, columns = ['created_utc', 'title', 'self_text', 'subreddit'])\n",
    "bitcoin.head()"
   ]
  },
  {
   "cell_type": "code",
   "execution_count": 40,
   "id": "fc5c19d8-b14c-4e5b-ad95-fa8fe8b5a47a",
   "metadata": {},
   "outputs": [],
   "source": [
    "# Retrieve the newest posts from the Solana subreddit\n",
    "subreddit = reddit.subreddit('solana')\n",
    "\n",
    "posts = subreddit.new(limit=1000)"
   ]
  },
  {
   "cell_type": "code",
   "execution_count": 41,
   "id": "43b98681-99b6-4679-b0c7-66fe4874a2a3",
   "metadata": {},
   "outputs": [
    {
     "data": {
      "text/html": [
       "<div>\n",
       "<style scoped>\n",
       "    .dataframe tbody tr th:only-of-type {\n",
       "        vertical-align: middle;\n",
       "    }\n",
       "\n",
       "    .dataframe tbody tr th {\n",
       "        vertical-align: top;\n",
       "    }\n",
       "\n",
       "    .dataframe thead th {\n",
       "        text-align: right;\n",
       "    }\n",
       "</style>\n",
       "<table border=\"1\" class=\"dataframe\">\n",
       "  <thead>\n",
       "    <tr style=\"text-align: right;\">\n",
       "      <th></th>\n",
       "      <th>created_utc</th>\n",
       "      <th>title</th>\n",
       "      <th>self_text</th>\n",
       "      <th>subreddit</th>\n",
       "    </tr>\n",
       "  </thead>\n",
       "  <tbody>\n",
       "    <tr>\n",
       "      <th>0</th>\n",
       "      <td>1.712353e+09</td>\n",
       "      <td>Anyone else trading perps on Jupiter? How ya'l...</td>\n",
       "      <td>Congestion sucks.</td>\n",
       "      <td>solana</td>\n",
       "    </tr>\n",
       "    <tr>\n",
       "      <th>1</th>\n",
       "      <td>1.712352e+09</td>\n",
       "      <td>Solana comeback?</td>\n",
       "      <td>So when the network becomes decongested and tr...</td>\n",
       "      <td>solana</td>\n",
       "    </tr>\n",
       "    <tr>\n",
       "      <th>2</th>\n",
       "      <td>1.712351e+09</td>\n",
       "      <td>Pending transactions</td>\n",
       "      <td>Why is it that when I try to look at the pendi...</td>\n",
       "      <td>solana</td>\n",
       "    </tr>\n",
       "    <tr>\n",
       "      <th>3</th>\n",
       "      <td>1.712351e+09</td>\n",
       "      <td>Network Congestion? A solution is on the way!</td>\n",
       "      <td>https://twitter.com/anza_xyz/status/1776347491...</td>\n",
       "      <td>solana</td>\n",
       "    </tr>\n",
       "    <tr>\n",
       "      <th>4</th>\n",
       "      <td>1.712351e+09</td>\n",
       "      <td>Solana or Bitcoin</td>\n",
       "      <td>At this moment would it be better to have 384 ...</td>\n",
       "      <td>solana</td>\n",
       "    </tr>\n",
       "  </tbody>\n",
       "</table>\n",
       "</div>"
      ],
      "text/plain": [
       "    created_utc                                              title  \\\n",
       "0  1.712353e+09  Anyone else trading perps on Jupiter? How ya'l...   \n",
       "1  1.712352e+09                                   Solana comeback?   \n",
       "2  1.712351e+09                               Pending transactions   \n",
       "3  1.712351e+09     Network Congestion? A solution is on the way!    \n",
       "4  1.712351e+09                                  Solana or Bitcoin   \n",
       "\n",
       "                                           self_text subreddit  \n",
       "0                                  Congestion sucks.    solana  \n",
       "1  So when the network becomes decongested and tr...    solana  \n",
       "2  Why is it that when I try to look at the pendi...    solana  \n",
       "3  https://twitter.com/anza_xyz/status/1776347491...    solana  \n",
       "4  At this moment would it be better to have 384 ...    solana  "
      ]
     },
     "execution_count": 41,
     "metadata": {},
     "output_type": "execute_result"
    }
   ],
   "source": [
    "# collect information from each Solana post and append it to a list\n",
    "data = []\n",
    "for post in posts:\n",
    "    data.append([post.created_utc, post.title, post.selftext, post.subreddit])\n",
    "\n",
    "# Turn into a dataframe\n",
    "solana = pd.DataFrame(data, columns = ['created_utc', 'title', 'self_text', 'subreddit'])\n",
    "solana.head()"
   ]
  },
  {
   "cell_type": "code",
   "execution_count": 150,
   "id": "5d0b8f03-046b-450b-9cb4-b68d7a09073d",
   "metadata": {},
   "outputs": [
    {
     "data": {
      "text/plain": [
       "created_utc    0\n",
       "title          0\n",
       "self_text      0\n",
       "subreddit      0\n",
       "dtype: int64"
      ]
     },
     "execution_count": 150,
     "metadata": {},
     "output_type": "execute_result"
    }
   ],
   "source": [
    "bitcoin.isna().sum()"
   ]
  },
  {
   "cell_type": "code",
   "execution_count": 151,
   "id": "e93019b7-1eed-4de0-96e0-25a141e39c2b",
   "metadata": {},
   "outputs": [
    {
     "data": {
      "text/plain": [
       "created_utc    0\n",
       "title          0\n",
       "self_text      0\n",
       "subreddit      0\n",
       "dtype: int64"
      ]
     },
     "execution_count": 151,
     "metadata": {},
     "output_type": "execute_result"
    }
   ],
   "source": [
    "solana.isna().sum()"
   ]
  },
  {
   "cell_type": "code",
   "execution_count": 148,
   "id": "b6e136d2-040d-49f4-a714-2f71b94c22f5",
   "metadata": {},
   "outputs": [
    {
     "data": {
      "text/plain": [
       "(988, 4)"
      ]
     },
     "execution_count": 148,
     "metadata": {},
     "output_type": "execute_result"
    }
   ],
   "source": [
    "bitcoin.shape"
   ]
  },
  {
   "cell_type": "code",
   "execution_count": 149,
   "id": "a8b0f416-8fcf-46e5-80fb-d78302944183",
   "metadata": {},
   "outputs": [
    {
     "data": {
      "text/plain": [
       "(914, 4)"
      ]
     },
     "execution_count": 149,
     "metadata": {},
     "output_type": "execute_result"
    }
   ],
   "source": [
    "solana.shape"
   ]
  },
  {
   "cell_type": "code",
   "execution_count": 2,
   "id": "b34eea5a-fef5-48f4-bdd2-e95937b7f2a0",
   "metadata": {},
   "outputs": [],
   "source": [
    "# checking unique values "
   ]
  },
  {
   "cell_type": "code",
   "execution_count": 53,
   "id": "8cb58e81-4b21-4a8a-87ec-64907e8418ed",
   "metadata": {},
   "outputs": [
    {
     "data": {
      "text/plain": [
       "created_utc    987\n",
       "title          984\n",
       "self_text      738\n",
       "subreddit        1\n",
       "dtype: int64"
      ]
     },
     "execution_count": 53,
     "metadata": {},
     "output_type": "execute_result"
    }
   ],
   "source": [
    "bitcoin.nunique()"
   ]
  },
  {
   "cell_type": "code",
   "execution_count": 54,
   "id": "67b8c475-2388-40d3-bd09-46a3d7310369",
   "metadata": {},
   "outputs": [
    {
     "data": {
      "text/plain": [
       "created_utc    914\n",
       "title          911\n",
       "self_text      822\n",
       "subreddit        1\n",
       "dtype: int64"
      ]
     },
     "execution_count": 54,
     "metadata": {},
     "output_type": "execute_result"
    }
   ],
   "source": [
    "solana.nunique()"
   ]
  },
  {
   "cell_type": "code",
   "execution_count": 1,
   "id": "3f25c5d5-5581-4d59-b3b5-82080a527985",
   "metadata": {},
   "outputs": [],
   "source": [
    "# Saving to csv  "
   ]
  },
  {
   "cell_type": "code",
   "execution_count": 254,
   "id": "428d12dc-8a7d-40a2-9133-82e15949683a",
   "metadata": {},
   "outputs": [],
   "source": [
    "bitcoin.to_csv('bitcoin.csv', index= False)"
   ]
  },
  {
   "cell_type": "code",
   "execution_count": 255,
   "id": "0d26f689-b2f2-49d7-bb00-164932c71e4d",
   "metadata": {},
   "outputs": [],
   "source": [
    "solana.to_csv('solana.csv', index= False)"
   ]
  },
  {
   "cell_type": "markdown",
   "id": "e38af2c8-6b6f-4f2a-ac90-318a539218d0",
   "metadata": {},
   "source": [
    "DataFrames did no seem to have any null values at first, however, once saved to csv, it was observed that they did indeed have some null values. Cleaning in a separete notebook. "
   ]
  }
 ],
 "metadata": {
  "kernelspec": {
   "display_name": "Python 3 (ipykernel)",
   "language": "python",
   "name": "python3"
  },
  "language_info": {
   "codemirror_mode": {
    "name": "ipython",
    "version": 3
   },
   "file_extension": ".py",
   "mimetype": "text/x-python",
   "name": "python",
   "nbconvert_exporter": "python",
   "pygments_lexer": "ipython3",
   "version": "3.11.7"
  }
 },
 "nbformat": 4,
 "nbformat_minor": 5
}
